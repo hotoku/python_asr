{
 "cells": [
  {
   "cell_type": "code",
   "execution_count": 2,
   "metadata": {},
   "outputs": [],
   "source": [
    "import sagemaker"
   ]
  },
  {
   "cell_type": "code",
   "execution_count": 3,
   "metadata": {},
   "outputs": [
    {
     "name": "stdout",
     "output_type": "stream",
     "text": [
      "2022-08-10 07:04:44 sagemaker-ap-northeast-1-163806108980\n",
      "2022-08-15 22:04:32 sagemaker-studio-163806108980-v9ccli8voa\n",
      "2022-08-10 05:29:24 sagemaker-us-east-1-163806108980\n"
     ]
    }
   ],
   "source": [
    "!aws s3 ls"
   ]
  },
  {
   "cell_type": "code",
   "execution_count": 4,
   "metadata": {},
   "outputs": [
    {
     "name": "stdout",
     "output_type": "stream",
     "text": [
      "2022-08-16 00:18:33          5 hoge\n"
     ]
    }
   ],
   "source": [
    "!aws s3 ls s3://sagemaker-studio-163806108980-v9ccli8voa"
   ]
  },
  {
   "cell_type": "code",
   "execution_count": 8,
   "metadata": {},
   "outputs": [],
   "source": [
    "!mkdir -p ./testdata\n",
    "sagemaker.s3.S3Downloader.download(\"s3://sagemaker-studio-163806108980-v9ccli8voa\", \"./testdata\")"
   ]
  },
  {
   "cell_type": "markdown",
   "metadata": {},
   "source": [
    "```\n",
    "sagemaker.s3.S3Downloader.download(\"s3://sagemaker-studio-163806108980-v9ccli8voa/hoge\", \"./testdata\")\n",
    "```\n",
    "だとエラーになった。末端のファイルは直接指定できないらしい 😲"
   ]
  },
  {
   "cell_type": "code",
   "execution_count": 7,
   "metadata": {},
   "outputs": [
    {
     "name": "stdout",
     "output_type": "stream",
     "text": [
      "hoge\n"
     ]
    }
   ],
   "source": [
    "!ls testdata"
   ]
  }
 ],
 "metadata": {
  "instance_type": "ml.t3.medium",
  "kernelspec": {
   "display_name": "Python 3 (Data Science)",
   "language": "python",
   "name": "python3__SAGEMAKER_INTERNAL__arn:aws:sagemaker:ap-northeast-1:102112518831:image/datascience-1.0"
  },
  "language_info": {
   "codemirror_mode": {
    "name": "ipython",
    "version": 3
   },
   "file_extension": ".py",
   "mimetype": "text/x-python",
   "name": "python",
   "nbconvert_exporter": "python",
   "pygments_lexer": "ipython3",
   "version": "3.7.10"
  }
 },
 "nbformat": 4,
 "nbformat_minor": 4
}
