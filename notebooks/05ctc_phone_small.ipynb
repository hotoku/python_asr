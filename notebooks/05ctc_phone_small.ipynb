{
 "cells": [
  {
   "cell_type": "code",
   "execution_count": 1,
   "metadata": {},
   "outputs": [],
   "source": [
    "import sagemaker\n",
    "import os"
   ]
  },
  {
   "cell_type": "code",
   "execution_count": 2,
   "metadata": {},
   "outputs": [
    {
     "name": "stdout",
     "output_type": "stream",
     "text": [
      "/root/projects/python_asr/notebooks\n"
     ]
    }
   ],
   "source": [
    "!pwd"
   ]
  },
  {
   "cell_type": "code",
   "execution_count": 3,
   "metadata": {},
   "outputs": [],
   "source": [
    "os.chdir(\"..\")"
   ]
  },
  {
   "cell_type": "code",
   "execution_count": 6,
   "metadata": {
    "executionInfo": {
     "elapsed": 33704,
     "status": "ok",
     "timestamp": 1660194017636,
     "user": {
      "displayName": "堀越保徳",
      "userId": "15788355006614508418"
     },
     "user_tz": -540
    },
    "id": "4IrISDtQRFCb"
   },
   "outputs": [
    {
     "name": "stdout",
     "output_type": "stream",
     "text": [
      "2022-08-16 00:58:21 2688749844 jsut-data.zip\n"
     ]
    }
   ],
   "source": [
    "!mkdir -p data/original\n",
    "!aws s3 ls s3://sagemaker-studio-163806108980-v9ccli8voa/jsut/\n",
    "sagemaker.s3.S3Downloader.download(\n",
    "    \"s3://sagemaker-studio-163806108980-v9ccli8voa/jsut/\",\n",
    "    \"./data/original\"\n",
    ")"
   ]
  },
  {
   "cell_type": "code",
   "execution_count": 8,
   "metadata": {},
   "outputs": [
    {
     "name": "stdout",
     "output_type": "stream",
     "text": [
      "data/original/jsut-data.zip\n"
     ]
    }
   ],
   "source": [
    "!find data -type f"
   ]
  },
  {
   "cell_type": "code",
   "execution_count": 9,
   "metadata": {
    "colab": {
     "base_uri": "https://localhost:8080/"
    },
    "executionInfo": {
     "elapsed": 10325,
     "status": "ok",
     "timestamp": 1660194027938,
     "user": {
      "displayName": "堀越保徳",
      "userId": "15788355006614508418"
     },
     "user_tz": -540
    },
    "id": "wW4EdLRUtbMB",
    "outputId": "9b84badf-d736-48fe-f7d0-969c335d16bb"
   },
   "outputs": [
    {
     "name": "stdout",
     "output_type": "stream",
     "text": [
      "Hit:1 http://security.debian.org/debian-security buster/updates InRelease\n",
      "Hit:2 http://deb.debian.org/debian buster InRelease\n",
      "Hit:3 http://deb.debian.org/debian buster-updates InRelease\n",
      "Reading package lists... Done\u001b[33m\u001b[33m\n",
      "Building dependency tree       \n",
      "Reading state information... Done\n",
      "46 packages can be upgraded. Run 'apt list --upgradable' to see them.\n"
     ]
    }
   ],
   "source": [
    "!apt update"
   ]
  },
  {
   "cell_type": "code",
   "execution_count": 10,
   "metadata": {},
   "outputs": [
    {
     "name": "stdout",
     "output_type": "stream",
     "text": [
      "Reading package lists... Done\n",
      "Building dependency tree       \n",
      "Reading state information... Done\n",
      "sox is already the newest version (14.4.2+git20190427-1).\n",
      "0 upgraded, 0 newly installed, 0 to remove and 46 not upgraded.\n"
     ]
    }
   ],
   "source": [
    "!apt install -y sox"
   ]
  },
  {
   "cell_type": "code",
   "execution_count": 11,
   "metadata": {
    "colab": {
     "base_uri": "https://localhost:8080/"
    },
    "executionInfo": {
     "elapsed": 3888,
     "status": "ok",
     "timestamp": 1660194031806,
     "user": {
      "displayName": "堀越保徳",
      "userId": "15788355006614508418"
     },
     "user_tz": -540
    },
    "id": "eonxgbcslrRX",
    "outputId": "c6c1d9f9-75d3-4bb5-cdd9-8e4793c03baa"
   },
   "outputs": [
    {
     "name": "stdout",
     "output_type": "stream",
     "text": [
      "Collecting sox\n",
      "  Downloading sox-1.4.1-py2.py3-none-any.whl (39 kB)\n",
      "Requirement already satisfied: numpy in /opt/conda/lib/python3.7/site-packages (1.21.6)\n",
      "Requirement already satisfied: matplotlib in /opt/conda/lib/python3.7/site-packages (3.1.3)\n",
      "Requirement already satisfied: pyyaml in /opt/conda/lib/python3.7/site-packages (6.0)\n",
      "Collecting torch\n",
      "  Downloading torch-1.12.1-cp37-cp37m-manylinux1_x86_64.whl (776.3 MB)\n",
      "\u001b[2K     \u001b[90m━━━━━━━━━━━━━━━━━━━━━━━━━━━━━━━━━━━━━\u001b[0m \u001b[32m776.3/776.3 MB\u001b[0m \u001b[31m893.6 kB/s\u001b[0m eta \u001b[36m0:00:00\u001b[0m00:01\u001b[0m00:01\u001b[0m\n",
      "\u001b[?25hRequirement already satisfied: kiwisolver>=1.0.1 in /opt/conda/lib/python3.7/site-packages (from matplotlib) (1.1.0)\n",
      "Requirement already satisfied: cycler>=0.10 in /opt/conda/lib/python3.7/site-packages (from matplotlib) (0.10.0)\n",
      "Requirement already satisfied: pyparsing!=2.0.4,!=2.1.2,!=2.1.6,>=2.0.1 in /opt/conda/lib/python3.7/site-packages (from matplotlib) (2.4.6)\n",
      "Requirement already satisfied: python-dateutil>=2.1 in /opt/conda/lib/python3.7/site-packages (from matplotlib) (2.8.1)\n",
      "Requirement already satisfied: typing-extensions in /opt/conda/lib/python3.7/site-packages (from torch) (4.3.0)\n",
      "Requirement already satisfied: six in /opt/conda/lib/python3.7/site-packages (from cycler>=0.10->matplotlib) (1.14.0)\n",
      "Requirement already satisfied: setuptools in /opt/conda/lib/python3.7/site-packages (from kiwisolver>=1.0.1->matplotlib) (59.3.0)\n",
      "Installing collected packages: torch, sox\n",
      "Successfully installed sox-1.4.1 torch-1.12.1\n",
      "\u001b[33mWARNING: Running pip as the 'root' user can result in broken permissions and conflicting behaviour with the system package manager. It is recommended to use a virtual environment instead: https://pip.pypa.io/warnings/venv\u001b[0m\u001b[33m\n",
      "\u001b[0m\n",
      "\u001b[1m[\u001b[0m\u001b[34;49mnotice\u001b[0m\u001b[1;39;49m]\u001b[0m\u001b[39;49m A new release of pip available: \u001b[0m\u001b[31;49m22.1.2\u001b[0m\u001b[39;49m -> \u001b[0m\u001b[32;49m22.2.2\u001b[0m\n",
      "\u001b[1m[\u001b[0m\u001b[34;49mnotice\u001b[0m\u001b[1;39;49m]\u001b[0m\u001b[39;49m To update, run: \u001b[0m\u001b[32;49mpip install --upgrade pip\u001b[0m\n"
     ]
    }
   ],
   "source": [
    "!pip install sox numpy matplotlib pyyaml torch"
   ]
  },
  {
   "cell_type": "code",
   "execution_count": 13,
   "metadata": {
    "executionInfo": {
     "elapsed": 6,
     "status": "ok",
     "timestamp": 1660194031807,
     "user": {
      "displayName": "堀越保徳",
      "userId": "15788355006614508418"
     },
     "user_tz": -540
    },
    "id": "HJTquT4kjzoE"
   },
   "outputs": [],
   "source": [
    "os.chdir(\"00prepare\")"
   ]
  },
  {
   "cell_type": "code",
   "execution_count": 14,
   "metadata": {
    "colab": {
     "base_uri": "https://localhost:8080/"
    },
    "executionInfo": {
     "elapsed": 393,
     "status": "ok",
     "timestamp": 1660194032195,
     "user": {
      "displayName": "堀越保徳",
      "userId": "15788355006614508418"
     },
     "user_tz": -540
    },
    "id": "KIkbkjkslk-2",
    "outputId": "11b2e0aa-fac5-413f-e54a-1e4482a3d759"
   },
   "outputs": [
    {
     "name": "stdout",
     "output_type": "stream",
     "text": [
      "00download_data.py  01prepare_wav.py  02prepare_label.py  03subset_data.py\n"
     ]
    }
   ],
   "source": [
    "!ls"
   ]
  },
  {
   "cell_type": "code",
   "execution_count": 15,
   "metadata": {
    "colab": {
     "base_uri": "https://localhost:8080/"
    },
    "executionInfo": {
     "elapsed": 42165,
     "status": "ok",
     "timestamp": 1660194074355,
     "user": {
      "displayName": "堀越保徳",
      "userId": "15788355006614508418"
     },
     "user_tz": -540
    },
    "id": "5YZZdRIgj-SG",
    "outputId": "7d65fa51-e6ac-46b8-a6ef-b06e9b3741d3"
   },
   "outputs": [
    {
     "name": "stdout",
     "output_type": "stream",
     "text": [
      "start: 2022-08-16 01:07:11.933214\n",
      "jsut-data archive already exists. Skip downloading.\n",
      "extract jsut-data start\n",
      "extract jsut-data finished\n",
      "download jsut-label start\n",
      "download jsut-label finished\n",
      "extract jsut-label start\n",
      "extract jsut-label finished\n",
      "all processes finished\n",
      "end: 2022-08-16 01:14:48.431896\n",
      "elapsed: 0:07:36.498682\n"
     ]
    }
   ],
   "source": [
    "!python 00download_data.py"
   ]
  },
  {
   "cell_type": "code",
   "execution_count": 16,
   "metadata": {
    "colab": {
     "base_uri": "https://localhost:8080/"
    },
    "executionInfo": {
     "elapsed": 49846,
     "status": "ok",
     "timestamp": 1660194124180,
     "user": {
      "displayName": "堀越保徳",
      "userId": "15788355006614508418"
     },
     "user_tz": -540
    },
    "id": "bYvn4-QakI4_",
    "outputId": "8be975e3-33a2-455e-c2f3-1670e6a9b9ed"
   },
   "outputs": [
    {
     "name": "stdout",
     "output_type": "stream",
     "text": [
      "finished 500/5000\n",
      "finished 1000/5000\n",
      "finished 1500/5000\n",
      "finished 2000/5000\n",
      "finished 2500/5000\n",
      "finished 3000/5000\n",
      "finished 3500/5000\n",
      "finished 4000/5000\n",
      "finished 4500/5000\n",
      "finished 5000/5000\n"
     ]
    }
   ],
   "source": [
    "!python 01prepare_wav.py"
   ]
  },
  {
   "cell_type": "code",
   "execution_count": 17,
   "metadata": {
    "executionInfo": {
     "elapsed": 5271,
     "status": "ok",
     "timestamp": 1660194129438,
     "user": {
      "displayName": "堀越保徳",
      "userId": "15788355006614508418"
     },
     "user_tz": -540
    },
    "id": "dNLc6N9jlowX"
   },
   "outputs": [],
   "source": [
    "!python 02prepare_label.py\n",
    "!python 03subset_data.py"
   ]
  },
  {
   "cell_type": "code",
   "execution_count": 18,
   "metadata": {
    "executionInfo": {
     "elapsed": 4,
     "status": "ok",
     "timestamp": 1660194129877,
     "user": {
      "displayName": "堀越保徳",
      "userId": "15788355006614508418"
     },
     "user_tz": -540
    },
    "id": "ar1-AY8utQJG"
   },
   "outputs": [],
   "source": [
    "os.chdir(\"../01compute_features\")"
   ]
  },
  {
   "cell_type": "code",
   "execution_count": 19,
   "metadata": {
    "colab": {
     "base_uri": "https://localhost:8080/"
    },
    "executionInfo": {
     "elapsed": 756776,
     "status": "ok",
     "timestamp": 1660194886649,
     "user": {
      "displayName": "堀越保徳",
      "userId": "15788355006614508418"
     },
     "user_tz": -540
    },
    "id": "PKzNMQpHtqHK",
    "outputId": "2d270c27-f9d8-4b2c-90a6-f23ac8b9085b"
   },
   "outputs": [
    {
     "name": "stdout",
     "output_type": "stream",
     "text": [
      "Input wav_scp: ../data/label/train_small/wav.scp\n",
      "Output directory: ./fbank/train_small\n",
      "Input wav_scp: ../data/label/train_large/wav.scp\n",
      "Output directory: ./fbank/train_large\n",
      "Input wav_scp: ../data/label/dev/wav.scp\n",
      "Output directory: ./fbank/dev\n",
      "Input wav_scp: ../data/label/test/wav.scp\n",
      "Output directory: ./fbank/test\n",
      "Input wav_scp: ../data/label/train_small/wav.scp\n",
      "Output directory: ./mfcc/train_small\n",
      "Input wav_scp: ../data/label/train_large/wav.scp\n",
      "Output directory: ./mfcc/train_large\n",
      "Input wav_scp: ../data/label/dev/wav.scp\n",
      "Output directory: ./mfcc/dev\n",
      "Input wav_scp: ../data/label/test/wav.scp\n",
      "Output directory: ./mfcc/test\n",
      "Input feat_scp: ./fbank/train_small/feats.scp\n",
      "Output file: ./fbank/train_small/mean_std.txt\n",
      "Input feat_scp: ./fbank/train_large/feats.scp\n",
      "Output file: ./fbank/train_large/mean_std.txt\n",
      "Input feat_scp: ./mfcc/train_small/feats.scp\n",
      "Output file: ./mfcc/train_small/mean_std.txt\n",
      "Input feat_scp: ./mfcc/train_large/feats.scp\n",
      "Output file: ./mfcc/train_large/mean_std.txt\n"
     ]
    }
   ],
   "source": [
    "!python 01_compute_fbank.py\n",
    "!python 01_compute_mfcc.py\n",
    "!python 02_compute_mean_std.py"
   ]
  },
  {
   "cell_type": "code",
   "execution_count": 20,
   "metadata": {
    "executionInfo": {
     "elapsed": 12,
     "status": "ok",
     "timestamp": 1660194886650,
     "user": {
      "displayName": "堀越保徳",
      "userId": "15788355006614508418"
     },
     "user_tz": -540
    },
    "id": "3Iq9ACLKt0HW"
   },
   "outputs": [],
   "source": [
    "os.chdir(\"../05ctc\")"
   ]
  },
  {
   "cell_type": "code",
   "execution_count": 21,
   "metadata": {
    "executionInfo": {
     "elapsed": 3976,
     "status": "ok",
     "timestamp": 1660194916492,
     "user": {
      "displayName": "堀越保徳",
      "userId": "15788355006614508418"
     },
     "user_tz": -540
    },
    "id": "R39PmDETtaN3"
   },
   "outputs": [],
   "source": [
    "!python 01_get_token.py large"
   ]
  },
  {
   "cell_type": "code",
   "execution_count": 22,
   "metadata": {
    "colab": {
     "base_uri": "https://localhost:8080/"
    },
    "executionInfo": {
     "elapsed": 972173,
     "status": "ok",
     "timestamp": 1660195903462,
     "user": {
      "displayName": "堀越保徳",
      "userId": "15788355006614508418"
     },
     "user_tz": -540
    },
    "id": "2Xr8vY-wtgJF",
    "outputId": "54bc8fe3-fe89-4c44-8977-4b61664e0a90"
   },
   "outputs": [
    {
     "name": "stdout",
     "output_type": "stream",
     "text": [
      "MyCTCModel(\n",
      "  (encoder): Encoder(\n",
      "    (rnn): ModuleList(\n",
      "      (0): GRU(40, 320, batch_first=True, bidirectional=True)\n",
      "      (1): GRU(320, 320, batch_first=True, bidirectional=True)\n",
      "      (2): GRU(320, 320, batch_first=True, bidirectional=True)\n",
      "      (3): GRU(320, 320, batch_first=True, bidirectional=True)\n",
      "      (4): GRU(320, 320, batch_first=True, bidirectional=True)\n",
      "    )\n",
      "    (proj): ModuleList(\n",
      "      (0): Linear(in_features=640, out_features=320, bias=True)\n",
      "      (1): Linear(in_features=640, out_features=320, bias=True)\n",
      "      (2): Linear(in_features=640, out_features=320, bias=True)\n",
      "      (3): Linear(in_features=640, out_features=320, bias=True)\n",
      "      (4): Linear(in_features=640, out_features=320, bias=True)\n",
      "    )\n",
      "  )\n",
      "  (out): Linear(in_features=320, out_features=38, bias=True)\n",
      ")\n",
      "/opt/conda/lib/python3.7/site-packages/torch/utils/data/dataloader.py:566: UserWarning: This DataLoader will create 4 worker processes in total. Our suggested max number of worker in current system is 2, which is smaller than what this DataLoader is going to create. Please be aware that excessive worker creation might get DataLoader running slow or even freeze, lower the worker number to avoid potential slowness/freeze if necessary.\n",
      "  cpuset_checked))\n",
      "[2022-08-16 01:50:29.686219] epoch 1/60:\n",
      "/root/projects/python_asr/05ctc/encoder.py:128: UserWarning: __floordiv__ is deprecated, and its behavior will change in a future version of pytorch. It currently rounds toward 0 (like the 'trunc' function NOT 'floor'). This results in incorrect rounding for negative values. To keep the current behavior, use torch.div(a, b, rounding_mode='trunc'), or for actual floor division, use torch.div(a, b, rounding_mode='floor').\n",
      "  output_lengths = (output_lengths+1) // sub\n",
      "^C\n"
     ]
    }
   ],
   "source": [
    "!python 02_train_ctc.py large phone"
   ]
  },
  {
   "cell_type": "code",
   "execution_count": 22,
   "metadata": {
    "colab": {
     "base_uri": "https://localhost:8080/"
    },
    "executionInfo": {
     "elapsed": 2907,
     "status": "ok",
     "timestamp": 1660196083335,
     "user": {
      "displayName": "堀越保徳",
      "userId": "15788355006614508418"
     },
     "user_tz": -540
    },
    "id": "ZC4Q_aPyZWf4",
    "outputId": "38f3110f-2dbe-4e63-ee95-02ee61ae9408"
   },
   "outputs": [
    {
     "name": "stdout",
     "output_type": "stream",
     "text": [
      "exp_train_large/\n",
      "exp_train_large/data/\n",
      "exp_train_large/data/phone/\n",
      "exp_train_large/data/phone/unknown_token_test\n",
      "exp_train_large/data/phone/unknown_token_dev\n",
      "exp_train_large/data/phone/label_dev\n",
      "exp_train_large/data/phone/label_train_large\n",
      "exp_train_large/data/phone/label_test\n",
      "exp_train_large/data/phone/unknown_token_train_large\n",
      "exp_train_large/data/phone/token_list\n",
      "exp_train_large/data/char/\n",
      "exp_train_large/data/char/unknown_token_test\n",
      "exp_train_large/data/char/unknown_token_dev\n",
      "exp_train_large/data/char/label_dev\n",
      "exp_train_large/data/char/label_train_large\n",
      "exp_train_large/data/char/label_test\n",
      "exp_train_large/data/char/unknown_token_train_large\n",
      "exp_train_large/data/char/token_list\n",
      "exp_train_large/data/kana/\n",
      "exp_train_large/data/kana/unknown_token_test\n",
      "exp_train_large/data/kana/unknown_token_dev\n",
      "exp_train_large/data/kana/label_dev\n",
      "exp_train_large/data/kana/label_train_large\n",
      "exp_train_large/data/kana/label_test\n",
      "exp_train_large/data/kana/unknown_token_train_large\n",
      "exp_train_large/data/kana/token_list\n",
      "exp_train_large/phone_model_ctc/\n",
      "exp_train_large/phone_model_ctc/log.txt\n",
      "exp_train_large/phone_model_ctc/config.json\n",
      "exp_train_large/phone_model_ctc/mean_std.txt\n",
      "exp_train_large/phone_model_ctc/error.png\n",
      "exp_train_large/phone_model_ctc/best_model.pt\n",
      "exp_train_large/phone_model_ctc/loss.png\n",
      "exp_train_large/phone_model_ctc/final_model.pt\n",
      "\n",
      "real\t0m2.763s\n",
      "user\t0m2.680s\n",
      "sys\t0m0.129s\n"
     ]
    }
   ],
   "source": [
    "!time tar czvf exp_train_large.tar.gz exp_train_large"
   ]
  },
  {
   "cell_type": "code",
   "execution_count": 23,
   "metadata": {
    "colab": {
     "base_uri": "https://localhost:8080/"
    },
    "executionInfo": {
     "elapsed": 242,
     "status": "ok",
     "timestamp": 1660196105048,
     "user": {
      "displayName": "堀越保徳",
      "userId": "15788355006614508418"
     },
     "user_tz": -540
    },
    "id": "4VL1jPQmZhkV",
    "outputId": "3fab6de3-1e9c-478f-ffef-8c74b69a55a3"
   },
   "outputs": [
    {
     "name": "stdout",
     "output_type": "stream",
     "text": [
      "total 48M\n",
      "-rw-r--r-- 1 root root 7.7K Aug 11 04:59 01_get_token.py\n",
      "-rw-r--r-- 1 root root  25K Aug 11 04:59 02_train_ctc.py\n",
      "-rw-r--r-- 1 root root 9.8K Aug 11 04:59 03_decode_ctc.py\n",
      "-rw-r--r-- 1 root root 4.2K Aug 11 04:59 04_scoring.py\n",
      "-rw-r--r-- 1 root root 5.8K Aug 11 04:59 encoder.py\n",
      "drwxr-xr-x 4 root root 4.0K Aug 11 05:15 exp_train_large\n",
      "-rw-r--r-- 1 root root  48M Aug 11 05:34 exp_train_large.tar.gz\n",
      "-rw-r--r-- 1 root root 2.2K Aug 11 04:59 initialize.py\n",
      "-rw-r--r-- 1 root root 6.0K Aug 11 04:59 levenshtein.py\n",
      "-rw-r--r-- 1 root root 7.3K Aug 11 04:59 my_dataset.py\n",
      "-rw-r--r-- 1 root root 3.0K Aug 11 04:59 my_model.py\n",
      "drwxr-xr-x 2 root root 4.0K Aug 11 05:14 __pycache__\n"
     ]
    }
   ],
   "source": [
    "!ls -lh"
   ]
  }
 ],
 "metadata": {
  "accelerator": "GPU",
  "colab": {
   "authorship_tag": "ABX9TyPWtpe/AMG156IKENcG64wo",
   "collapsed_sections": [],
   "mount_file_id": "1udsbYEynkcGclBabik_7KAcyUa_sqOY_",
   "name": "05ctc_phone_small.ipynb",
   "provenance": []
  },
  "gpuClass": "standard",
  "instance_type": "ml.t3.medium",
  "kernelspec": {
   "display_name": "Python 3 (Data Science)",
   "language": "python",
   "name": "python3__SAGEMAKER_INTERNAL__arn:aws:sagemaker:ap-northeast-1:102112518831:image/datascience-1.0"
  },
  "language_info": {
   "codemirror_mode": {
    "name": "ipython",
    "version": 3
   },
   "file_extension": ".py",
   "mimetype": "text/x-python",
   "name": "python",
   "nbconvert_exporter": "python",
   "pygments_lexer": "ipython3",
   "version": "3.7.10"
  }
 },
 "nbformat": 4,
 "nbformat_minor": 4
}
